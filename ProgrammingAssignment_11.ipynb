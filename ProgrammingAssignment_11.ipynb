{
  "nbformat": 4,
  "nbformat_minor": 0,
  "metadata": {
    "colab": {
      "provenance": []
    },
    "kernelspec": {
      "name": "python3",
      "display_name": "Python 3"
    },
    "language_info": {
      "name": "python"
    }
  },
  "cells": [
    {
      "cell_type": "markdown",
      "source": [
        "1. Write a Python program to find words which are greater than given length k?"
      ],
      "metadata": {
        "id": "C9oJs_15jtsZ"
      }
    },
    {
      "cell_type": "code",
      "source": [
        "\n",
        "\n",
        "def string_k(k, str):\n",
        "\n",
        "\t# create the empty string\n",
        "\tstring = []\n",
        "\n",
        "\t# split the string where space is comes\n",
        "\ttext = str.split(\" \")\n",
        "\n",
        "\t# iterate the loop till every substring\n",
        "\tfor x in text:\n",
        "\n",
        "\t\t# if length of current sub string\n",
        "\t\t# is greater than k then\n",
        "\t\tif len(x) > k:\n",
        "\n",
        "\t\t\t# append this sub string in\n",
        "\t\t\t# string list\n",
        "\t\t\tstring.append(x)\n",
        "\n",
        "\t# return string list\n",
        "\treturn string\n",
        "\n",
        "\n",
        "# Driver Program\n",
        "k = 3\n",
        "str = \"hello world\"\n",
        "print(string_k(k, str))\n"
      ],
      "metadata": {
        "colab": {
          "base_uri": "https://localhost:8080/"
        },
        "id": "srDCmDGSj1-K",
        "outputId": "37978669-3e80-4b2d-c4e8-9004f25df2cb"
      },
      "execution_count": 1,
      "outputs": [
        {
          "output_type": "stream",
          "name": "stdout",
          "text": [
            "['hello', 'world']\n"
          ]
        }
      ]
    },
    {
      "cell_type": "markdown",
      "source": [
        "2. Write a Python program for removing i-th character from a string?"
      ],
      "metadata": {
        "id": "x83DIHBDkAZ5"
      }
    },
    {
      "cell_type": "code",
      "source": [
        "# Python3 program for removing i-th\n",
        "# indexed character from a string\n",
        "\n",
        "# Removes character at index i\n",
        "\n",
        "\n",
        "def remove(string, i):\n",
        "\n",
        "\t# Characters before the i-th indexed\n",
        "\t# is stored in a variable a\n",
        "\ta = string[: i]\n",
        "\n",
        "\t# Characters after the nth indexed\n",
        "\t# is stored in a variable b\n",
        "\tb = string[i + 1:]\n",
        "\n",
        "\t# Returning string after removing\n",
        "\t# nth indexed character.\n",
        "\treturn a + b\n",
        "\n",
        "\n",
        "# Driver Code\n",
        "if __name__ == '__main__':\n",
        "\n",
        "\tstring = \"helloworld\"\n",
        "\n",
        "\t# Remove nth index element\n",
        "\ti = 5\n",
        "\n",
        "\t# Print the new string\n",
        "\tprint(remove(string, i))\n"
      ],
      "metadata": {
        "colab": {
          "base_uri": "https://localhost:8080/"
        },
        "id": "Z43KfR_Zj5iX",
        "outputId": "6704153b-cf73-45cd-d8eb-fd23e1670323"
      },
      "execution_count": 2,
      "outputs": [
        {
          "output_type": "stream",
          "name": "stdout",
          "text": [
            "helloorld\n"
          ]
        }
      ]
    },
    {
      "cell_type": "markdown",
      "source": [
        "3. Write a Python program to split and join a string?"
      ],
      "metadata": {
        "id": "SSyz24c_kOVz"
      }
    },
    {
      "cell_type": "code",
      "source": [
        "# Python program to split a string and\n",
        "# join it using different delimiter\n",
        "\n",
        "def split_string(string):\n",
        "\n",
        "\t# Split the string based on space delimiter\n",
        "\tlist_string = string.split(' ')\n",
        "\t\n",
        "\treturn list_string\n",
        "\n",
        "def join_string(list_string):\n",
        "\n",
        "\t# Join the string based on '-' delimiter\n",
        "\tstring = '-'.join(list_string)\n",
        "\t\n",
        "\treturn string\n",
        "\n",
        "# Driver Function\n",
        "if __name__ == '__main__':\n",
        "\tstring = 'Hello world'\n",
        "\t\n",
        "\t# Splitting a string\n",
        "\tlist_string = split_string(string)\n",
        "\tprint(list_string)\n",
        "\n",
        "\t# Join list of strings into one\n",
        "\tnew_string = join_string(list_string)\n",
        "\tprint(new_string)\n"
      ],
      "metadata": {
        "colab": {
          "base_uri": "https://localhost:8080/"
        },
        "id": "Xg_pOF-ukBn_",
        "outputId": "0a60f3d1-e3a1-4537-cf8c-df3b6ac5574c"
      },
      "execution_count": 3,
      "outputs": [
        {
          "output_type": "stream",
          "name": "stdout",
          "text": [
            "['Hello', 'world']\n",
            "Hello-world\n"
          ]
        }
      ]
    },
    {
      "cell_type": "markdown",
      "source": [
        "4. Write a Python to check if a given string is binary string or not?"
      ],
      "metadata": {
        "id": "34TXN8DHkZdc"
      }
    },
    {
      "cell_type": "code",
      "source": [
        "# Python program to check\n",
        "# if a string is binary or not\n",
        "\n",
        "# function for checking the\n",
        "# string is accepted or not\n",
        "\n",
        "\n",
        "def check(string):\n",
        "\n",
        "\t# set function convert string\n",
        "\t# into set of characters .\n",
        "\tp = set(string)\n",
        "\n",
        "\t# declare set of '0', '1' .\n",
        "\ts = {'0', '1'}\n",
        "\n",
        "\t# check set p is same as set s\n",
        "\t# or set p contains only '0'\n",
        "\t# or set p contains only '1'\n",
        "\t# or not, if any one condition\n",
        "\t# is true then string is accepted\n",
        "\t# otherwise not .\n",
        "\tif s == p or p == {'0'} or p == {'1'}:\n",
        "\t\tprint(\"Yes\")\n",
        "\telse:\n",
        "\t\tprint(\"No\")\n",
        "\n",
        "\n",
        "# driver code\n",
        "if __name__ == \"__main__\":\n",
        "\n",
        "\tstring = \"101010000111\"\n",
        "\n",
        "\t# function calling\n",
        "\tcheck(string)\n"
      ],
      "metadata": {
        "colab": {
          "base_uri": "https://localhost:8080/"
        },
        "id": "UiqARsqlkTzt",
        "outputId": "fd355208-5000-45f9-c20f-2b1318c61230"
      },
      "execution_count": 4,
      "outputs": [
        {
          "output_type": "stream",
          "name": "stdout",
          "text": [
            "Yes\n"
          ]
        }
      ]
    },
    {
      "cell_type": "markdown",
      "source": [
        "5. Write a Python program to find uncommon words from two Strings?"
      ],
      "metadata": {
        "id": "0yxMfte2keSH"
      }
    },
    {
      "cell_type": "code",
      "source": [
        "# Python3 program to find a list of uncommon words\n",
        "\n",
        "# Function to return all uncommon words\n",
        "\n",
        "\n",
        "def UncommonWords(A, B):\n",
        "\n",
        "\t# count will contain all the word counts\n",
        "\tcount = {}\n",
        "\n",
        "\t# insert words of string A to hash\n",
        "\tfor word in A.split():\n",
        "\t\tcount[word] = count.get(word, 0) + 1\n",
        "\n",
        "\t# insert words of string B to hash\n",
        "\tfor word in B.split():\n",
        "\t\tcount[word] = count.get(word, 0) + 1\n",
        "\n",
        "\t# return required list of words\n",
        "\treturn [word for word in count if count[word] == 1]\n",
        "\n",
        "\n",
        "# Driver Code\n",
        "A = \"hello world\"\n",
        "B = \"introduction to python\"\n",
        "\n",
        "# Print required answer\n",
        "print(UncommonWords(A, B))\n"
      ],
      "metadata": {
        "colab": {
          "base_uri": "https://localhost:8080/"
        },
        "id": "qZ3TNJg0kdZ0",
        "outputId": "16c72d95-fc27-4663-ce42-8acb3e4144ba"
      },
      "execution_count": 5,
      "outputs": [
        {
          "output_type": "stream",
          "name": "stdout",
          "text": [
            "['hello', 'world', 'introduction', 'to', 'python']\n"
          ]
        }
      ]
    },
    {
      "cell_type": "markdown",
      "source": [
        "6. Write a Python to find all duplicate characters in string?"
      ],
      "metadata": {
        "id": "-lTapF6tktM2"
      }
    },
    {
      "cell_type": "code",
      "source": [
        "def duplicate_characters(string):\n",
        "\t# Create an empty dictionary\n",
        "\tchars = {}\n",
        "\n",
        "\t# Iterate through each character in the string\n",
        "\tfor char in string:\n",
        "\t\t# If the character is not in the dictionary, add it\n",
        "\t\tif char not in chars:\n",
        "\t\t\tchars[char] = 1\n",
        "\t\telse:\n",
        "\t\t\t# If the character is already in the dictionary, increment the count\n",
        "\t\t\tchars[char] += 1\n",
        "\n",
        "\t# Create a list to store the duplicate characters\n",
        "\tduplicates = []\n",
        "\n",
        "\t# Iterate through the dictionary to find characters with count greater than 1\n",
        "\tfor char, count in chars.items():\n",
        "\t\tif count > 1:\n",
        "\t\t\tduplicates.append(char)\n",
        "\n",
        "\treturn duplicates\n",
        "\n",
        "# Test cases\n",
        "print(duplicate_characters(\"helloworld\"))\n"
      ],
      "metadata": {
        "colab": {
          "base_uri": "https://localhost:8080/"
        },
        "id": "28oC5v0okqKZ",
        "outputId": "5b6500ff-2d99-42c7-e30d-c1ae95137f98"
      },
      "execution_count": 6,
      "outputs": [
        {
          "output_type": "stream",
          "name": "stdout",
          "text": [
            "['l', 'o']\n"
          ]
        }
      ]
    },
    {
      "cell_type": "markdown",
      "source": [
        "7. Write a Python Program to check if a string contains any special character?"
      ],
      "metadata": {
        "id": "Yqlk0uKQk7UP"
      }
    },
    {
      "cell_type": "code",
      "source": [
        "# Python3 program to check if a string\n",
        "# contains any special character\n",
        "\n",
        "# import required package\n",
        "import re\n",
        "\n",
        "# Function checks if the string\n",
        "# contains any special character\n",
        "def run(string):\n",
        "\n",
        "\t# Make own character set and pass\n",
        "\t# this as argument in compile method\n",
        "\tregex = re.compile('[@_!#$%^&*()<>?/\\|}{~:]')\n",
        "\t\n",
        "\t# Pass the string in search\n",
        "\t# method of regex object.\n",
        "\tif(regex.search(string) == None):\n",
        "\t\tprint(\"String is accepted\")\n",
        "\t\t\n",
        "\telse:\n",
        "\t\tprint(\"String is not accepted.\")\n",
        "\t\n",
        "\n",
        "# Driver Code\n",
        "if __name__ == '__main__' :\n",
        "\t\n",
        "\t# Enter the string\n",
        "\tstring = \"helloworld\"\n",
        "\t\n",
        "\t# calling run function\n",
        "\trun(string)\n"
      ],
      "metadata": {
        "colab": {
          "base_uri": "https://localhost:8080/"
        },
        "id": "1-QtAQ4uk1_0",
        "outputId": "9944c602-a6ad-4bb2-c9e5-0ba3de1927f5"
      },
      "execution_count": 7,
      "outputs": [
        {
          "output_type": "stream",
          "name": "stdout",
          "text": [
            "String is accepted\n"
          ]
        }
      ]
    },
    {
      "cell_type": "code",
      "source": [],
      "metadata": {
        "id": "kVcwCIXTlBJt"
      },
      "execution_count": null,
      "outputs": []
    }
  ]
}