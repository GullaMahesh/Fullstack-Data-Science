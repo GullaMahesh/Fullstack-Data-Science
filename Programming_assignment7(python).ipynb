{
  "cells": [
    {
      "cell_type": "markdown",
      "metadata": {
        "id": "zjDRgVUjQD9t"
      },
      "source": [
        "1.Write a Python Program to find sum of array?\n"
      ]
    },
    {
      "cell_type": "code",
      "execution_count": 1,
      "metadata": {
        "colab": {
          "base_uri": "https://localhost:8080/"
        },
        "id": "oAuDVI0dQI7m",
        "outputId": "48be3e0d-18c3-45c1-c5f2-28c2bcff996e"
      },
      "outputs": [
        {
          "output_type": "stream",
          "name": "stdout",
          "text": [
            "Sum is 15\n"
          ]
        }
      ],
      "source": [
        "arr = [1,2,3,4,5]\n",
        "sum = 0\n",
        "for i in range(len(arr)):\n",
        "  sum = sum + arr[i]\n",
        "\n",
        "print(\"Sum is\", sum)"
      ]
    },
    {
      "cell_type": "markdown",
      "metadata": {
        "id": "NKGjbQESQSjQ"
      },
      "source": [
        "2. Write a Python Program to find largest element in an array?\n"
      ]
    },
    {
      "cell_type": "code",
      "execution_count": 2,
      "metadata": {
        "colab": {
          "base_uri": "https://localhost:8080/"
        },
        "id": "i3O7c5JGQUuu",
        "outputId": "1159a3ce-3905-47b1-ee35-0582fb97376b"
      },
      "outputs": [
        {
          "output_type": "stream",
          "name": "stdout",
          "text": [
            "largest element is  8\n"
          ]
        }
      ],
      "source": [
        "arr = [5,6,8,3,2]\n",
        "\n",
        "large = arr[0]\n",
        "for i in range(len(arr)):\n",
        "  if(arr[i]>large):\n",
        "    large = arr[i]\n",
        "\n",
        "print(\"largest element is \",large)"
      ]
    },
    {
      "cell_type": "markdown",
      "metadata": {
        "id": "DpRCXJK4RSm4"
      },
      "source": [
        "3. Write a Python Program for array rotation?"
      ]
    },
    {
      "cell_type": "code",
      "execution_count": 3,
      "metadata": {
        "colab": {
          "base_uri": "https://localhost:8080/"
        },
        "id": "8LASDgD8RY8t",
        "outputId": "f61089c4-057f-4223-9358-e3192bde3471"
      },
      "outputs": [
        {
          "output_type": "stream",
          "name": "stdout",
          "text": [
            "[4, 5, 1, 2, 3]\n"
          ]
        }
      ],
      "source": [
        "\n",
        "def rotate_array(arr, d):\n",
        "    n = len(arr)\n",
        "    \n",
        "    d = d % n\n",
        "   \n",
        "    if d == 0:\n",
        "        return arr\n",
        "    \n",
        "    arr[:n-d] = reversed(arr[:n-d])\n",
        "    arr[n-d:] = reversed(arr[n-d:])\n",
        "    arr[:] = reversed(arr)\n",
        "    return arr\n",
        "\n",
        "# example usage\n",
        "my_array = [1, 2, 3, 4, 5]\n",
        "d = 2\n",
        "rotated_array = rotate_array(my_array, d)\n",
        "print(rotated_array)\n"
      ]
    },
    {
      "cell_type": "markdown",
      "metadata": {
        "id": "0Xaktn0Ad7os"
      },
      "source": [
        "4. Write a Python Program to Split the array and add the first part to the end?"
      ]
    },
    {
      "cell_type": "code",
      "execution_count": 4,
      "metadata": {
        "colab": {
          "base_uri": "https://localhost:8080/"
        },
        "id": "kIyYXfHMd9pq",
        "outputId": "0722e082-dd66-41cd-c0ad-1d55e43e8275"
      },
      "outputs": [
        {
          "output_type": "stream",
          "name": "stdout",
          "text": [
            "[3, 4, 5, 1, 2]\n"
          ]
        }
      ],
      "source": [
        "def split_and_add(arr, pos):\n",
        "    \n",
        "    part1 = arr[:pos]\n",
        "    part2 = arr[pos:]\n",
        "\n",
        "    result = part2 + part1\n",
        "    return result\n",
        "\n",
        "# example usage\n",
        "my_array = [1, 2, 3, 4, 5]\n",
        "pos = 2\n",
        "new_array = split_and_add(my_array, pos)\n",
        "print(new_array)"
      ]
    },
    {
      "cell_type": "markdown",
      "metadata": {
        "id": "6IiB_kWDRkW7"
      },
      "source": [
        "5.Write a Python Program to check if given array is Monotonic?"
      ]
    },
    {
      "cell_type": "code",
      "execution_count": 5,
      "metadata": {
        "colab": {
          "base_uri": "https://localhost:8080/"
        },
        "id": "TMMUFCtHRgIP",
        "outputId": "f9b99da7-7e96-4031-e260-f83c6d55592f"
      },
      "outputs": [
        {
          "output_type": "stream",
          "name": "stdout",
          "text": [
            "True\n",
            "True\n",
            "False\n"
          ]
        }
      ],
      "source": [
        "# function to check if array is monotonic\n",
        "def is_monotonic(arr):\n",
        "    # check if array is non-increasing or non-decreasing\n",
        "    return all(arr[i] <= arr[i+1] for i in range(len(arr)-1)) or all(arr[i] >= arr[i+1] for i in range(len(arr)-1))\n",
        "\n",
        "# example usage\n",
        "my_array1 = [1, 2, 3, 4, 5]\n",
        "my_array2 = [5, 4, 3, 2, 1]\n",
        "my_array3 = [1, 2, 3, 2, 1]\n",
        "\n",
        "print(is_monotonic(my_array1)) # True\n",
        "print(is_monotonic(my_array2)) # True\n",
        "print(is_monotonic(my_array3)) # False\n"
      ]
    }
  ],
  "metadata": {
    "colab": {
      "provenance": []
    },
    "kernelspec": {
      "display_name": "Python 3",
      "name": "python3"
    },
    "language_info": {
      "name": "python"
    }
  },
  "nbformat": 4,
  "nbformat_minor": 0
}