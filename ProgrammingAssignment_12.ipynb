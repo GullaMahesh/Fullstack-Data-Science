{
  "nbformat": 4,
  "nbformat_minor": 0,
  "metadata": {
    "colab": {
      "provenance": []
    },
    "kernelspec": {
      "name": "python3",
      "display_name": "Python 3"
    },
    "language_info": {
      "name": "python"
    }
  },
  "cells": [
    {
      "cell_type": "markdown",
      "source": [
        "1. Write a Python program to Extract Unique values dictionary values?"
      ],
      "metadata": {
        "id": "C9oJs_15jtsZ"
      }
    },
    {
      "cell_type": "code",
      "source": [
        "dict1 = {'A' : [1, 3, 5, 4],\n",
        "             'B' : [4, 6, 8, 10],\n",
        "             'C' : [6, 12, 4 ,8],\n",
        "             'D' : [5, 7, 2]}\n",
        "\n",
        "print(\"The original dictionary is : \" ,dict1)\n",
        "  \n",
        "# Using list comprehension, values() and sorted()\n",
        "res = list(sorted({ele for val in dict1.values() for ele in val}))\n",
        "  \n",
        "# print result \n",
        "print(\"The unique values list is : \" , res) "
      ],
      "metadata": {
        "colab": {
          "base_uri": "https://localhost:8080/"
        },
        "id": "srDCmDGSj1-K",
        "outputId": "78de169a-f1db-4066-dd25-bde682d9e1d5"
      },
      "execution_count": 9,
      "outputs": [
        {
          "output_type": "stream",
          "name": "stdout",
          "text": [
            "The original dictionary is :  {'A': [1, 3, 5, 4], 'B': [4, 6, 8, 10], 'C': [6, 12, 4, 8], 'D': [5, 7, 2]}\n",
            "The unique values list is :  [1, 2, 3, 4, 5, 6, 7, 8, 10, 12]\n"
          ]
        }
      ]
    },
    {
      "cell_type": "markdown",
      "source": [
        "2. Write a Python program to find the sum of all items in a dictionary?"
      ],
      "metadata": {
        "id": "x83DIHBDkAZ5"
      }
    },
    {
      "cell_type": "code",
      "source": [
        "# Python3 Program to find sum of\n",
        "# all items in a Dictionary\n",
        "\n",
        "# Function to print sum\n",
        "\n",
        "\n",
        "def returnSum(myDict):\n",
        "\n",
        "\tlist = []\n",
        "\tfor i in myDict:\n",
        "\t\tlist.append(myDict[i])\n",
        "\tfinal = sum(list)\n",
        "\n",
        "\treturn final\n",
        "\n",
        "\n",
        "# Driver Function\n",
        "dict = {'a': 100, 'b': 200, 'c': 300}\n",
        "print(\"Sum :\", returnSum(dict))\n"
      ],
      "metadata": {
        "colab": {
          "base_uri": "https://localhost:8080/"
        },
        "id": "Z43KfR_Zj5iX",
        "outputId": "92276f4b-646e-40aa-9785-ccb9025a5206"
      },
      "execution_count": 10,
      "outputs": [
        {
          "output_type": "stream",
          "name": "stdout",
          "text": [
            "Sum : 600\n"
          ]
        }
      ]
    },
    {
      "cell_type": "markdown",
      "source": [
        "3. Write a Python program to Merging two Dictionaries?"
      ],
      "metadata": {
        "id": "SSyz24c_kOVz"
      }
    },
    {
      "cell_type": "code",
      "source": [
        "dict_1 = {1: 'a', 2: 'b'}\n",
        "dict_2 = {2: 'c', 4: 'd'}\n",
        "\n",
        "print(dict_1 | dict_2)"
      ],
      "metadata": {
        "colab": {
          "base_uri": "https://localhost:8080/"
        },
        "id": "Xg_pOF-ukBn_",
        "outputId": "26fe340d-91b3-4594-f2ea-98a26fdb939a"
      },
      "execution_count": 11,
      "outputs": [
        {
          "output_type": "stream",
          "name": "stdout",
          "text": [
            "{1: 'a', 2: 'c', 4: 'd'}\n"
          ]
        }
      ]
    },
    {
      "cell_type": "markdown",
      "source": [
        "4. Write a Python program to convert key-values list to flat dictionary?"
      ],
      "metadata": {
        "id": "34TXN8DHkZdc"
      }
    },
    {
      "cell_type": "code",
      "source": [
        "def test(flat_dict):\n",
        "  return list(flat_dict.values())\n",
        "students = {\n",
        "  'Theodore': 19,\n",
        "  'Roxanne': 20,\n",
        "  'Mathew': 21,\n",
        "  'Betty': 20\n",
        "}\n",
        "print(\"\\nOriginal dictionary elements:\")\n",
        "print(students)\n",
        "print(\"\\nCreate a flat list of all the values of the said flat dictionary:\")\n",
        "print(test(students))"
      ],
      "metadata": {
        "colab": {
          "base_uri": "https://localhost:8080/"
        },
        "id": "UiqARsqlkTzt",
        "outputId": "0224b720-7764-4ab6-fe80-ae303018a4ca"
      },
      "execution_count": 17,
      "outputs": [
        {
          "output_type": "stream",
          "name": "stdout",
          "text": [
            "\n",
            "Original dictionary elements:\n",
            "{'Theodore': 19, 'Roxanne': 20, 'Mathew': 21, 'Betty': 20}\n",
            "\n",
            "Create a flat list of all the values of the said flat dictionary:\n",
            "[19, 20, 21, 20]\n"
          ]
        }
      ]
    },
    {
      "cell_type": "markdown",
      "source": [
        "5. Write a Python program to insertion at the beginning in OrderedDict?"
      ],
      "metadata": {
        "id": "0yxMfte2keSH"
      }
    },
    {
      "cell_type": "code",
      "source": [
        "from collections import OrderedDict\n",
        "color_orderdict = OrderedDict([('color1', 'Red'), ('color2', 'Green'), ('color3', 'Blue')]) \n",
        "print(\"Original OrderedDict:\")\n",
        "print(color_orderdict)\n",
        "print(\"Insert an element at the beginning of the said OrderedDict:\")\n",
        "color_orderdict.update({'color4':'Orange'})\n",
        "color_orderdict.move_to_end('color4', last = False)\n",
        "print(\"\\nUpdated OrderedDict:\")\n",
        "print(color_orderdict)"
      ],
      "metadata": {
        "colab": {
          "base_uri": "https://localhost:8080/"
        },
        "id": "qZ3TNJg0kdZ0",
        "outputId": "23c5c0a2-022b-426b-bd2c-880d21ea8c9e"
      },
      "execution_count": 19,
      "outputs": [
        {
          "output_type": "stream",
          "name": "stdout",
          "text": [
            "Original OrderedDict:\n",
            "OrderedDict([('color1', 'Red'), ('color2', 'Green'), ('color3', 'Blue')])\n",
            "Insert an element at the beginning of the said OrderedDict:\n",
            "\n",
            "Updated OrderedDict:\n",
            "OrderedDict([('color4', 'Orange'), ('color1', 'Red'), ('color2', 'Green'), ('color3', 'Blue')])\n"
          ]
        }
      ]
    },
    {
      "cell_type": "markdown",
      "source": [
        "6. Write a Python program to check order of character in string using OrderedDict()?"
      ],
      "metadata": {
        "id": "-lTapF6tktM2"
      }
    },
    {
      "cell_type": "code",
      "source": [
        "# Function to check if string follows order of\n",
        "# characters defined by a pattern\n",
        "from collections import OrderedDict\n",
        "\n",
        "def checkOrder(input, pattern):\n",
        "\t\n",
        "\t# create empty OrderedDict\n",
        "\t# output will be like {'a': None,'b': None, 'c': None}\n",
        "\tdict = OrderedDict.fromkeys(input)\n",
        "\n",
        "\t# traverse generated OrderedDict parallel with\n",
        "\t# pattern string to check if order of characters\n",
        "\t# are same or not\n",
        "\tptrlen = 0\n",
        "\tfor key,value in dict.items():\n",
        "\t\tif (key == pattern[ptrlen]):\n",
        "\t\t\tptrlen = ptrlen + 1\n",
        "\t\t\n",
        "\t\t# check if we have traverse complete\n",
        "\t\t# pattern string\n",
        "\t\tif (ptrlen == (len(pattern))):\n",
        "\t\t\treturn 'true'\n",
        "\n",
        "\t# if we come out from for loop that means\n",
        "\t# order was mismatched\n",
        "\treturn 'false'\n",
        "\n",
        "# Driver program\n",
        "if __name__ == \"__main__\":\n",
        "\tinput = 'engineers rock'\n",
        "\tpattern = 'er'\n",
        "\tprint (checkOrder(input,pattern))\n"
      ],
      "metadata": {
        "colab": {
          "base_uri": "https://localhost:8080/"
        },
        "id": "28oC5v0okqKZ",
        "outputId": "5617ebfb-60df-4637-a93d-106d95e82ccd"
      },
      "execution_count": 20,
      "outputs": [
        {
          "output_type": "stream",
          "name": "stdout",
          "text": [
            "true\n"
          ]
        }
      ]
    },
    {
      "cell_type": "markdown",
      "source": [
        "7. Write a Python program to sort Python Dictionaries by Key or Value?"
      ],
      "metadata": {
        "id": "Yqlk0uKQk7UP"
      }
    },
    {
      "cell_type": "code",
      "source": [
        "myDict = {'ravi': 10, 'rajnish': 9,\n",
        "\t\t'sanjeev': 15, 'yash': 2, 'suraj': 32}\n",
        "\n",
        "myKeys = list(myDict.keys())\n",
        "myKeys.sort()\n",
        "sorted_dict = {i: myDict[i] for i in myKeys}\n",
        "\n",
        "print(sorted_dict)\n"
      ],
      "metadata": {
        "colab": {
          "base_uri": "https://localhost:8080/"
        },
        "id": "1-QtAQ4uk1_0",
        "outputId": "bc96f2a5-7a08-4d80-c356-5de393f93cf0"
      },
      "execution_count": 21,
      "outputs": [
        {
          "output_type": "stream",
          "name": "stdout",
          "text": [
            "{'rajnish': 9, 'ravi': 10, 'sanjeev': 15, 'suraj': 32, 'yash': 2}\n"
          ]
        }
      ]
    },
    {
      "cell_type": "code",
      "source": [],
      "metadata": {
        "id": "kVcwCIXTlBJt"
      },
      "execution_count": null,
      "outputs": []
    }
  ]
}