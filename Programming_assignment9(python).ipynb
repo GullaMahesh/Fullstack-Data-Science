{
  "cells": [
    {
      "cell_type": "markdown",
      "metadata": {
        "id": "zjDRgVUjQD9t"
      },
      "source": [
        "1.Write a Python program to check if the given number is a Disarium Number?\n"
      ]
    },
    {
      "cell_type": "code",
      "execution_count": 11,
      "metadata": {
        "colab": {
          "base_uri": "https://localhost:8080/"
        },
        "id": "oAuDVI0dQI7m",
        "outputId": "712b0476-9e16-4edc-e5ab-09e426e3a786"
      },
      "outputs": [
        {
          "output_type": "stream",
          "name": "stdout",
          "text": [
            "175 is a Disarium Number\n"
          ]
        }
      ],
      "source": [
        "def is_disarium_number(n):\n",
        "    # convert number to string to iterate over digits\n",
        "    str_n = str(n)\n",
        "    # get the length of the number\n",
        "    length = len(str_n)\n",
        "    # initialize sum variable\n",
        "    sum = 0\n",
        "    # iterate over digits and calculate sum\n",
        "    for i in range(length):\n",
        "        sum += int(str_n[i])**(i+1)\n",
        "    # check if sum is equal to the number\n",
        "    if sum == n:\n",
        "        return True\n",
        "    else:\n",
        "        return False\n",
        "\n",
        "# example usage\n",
        "num = 175\n",
        "if is_disarium_number(num):\n",
        "    print(f\"{num} is a Disarium Number\")\n",
        "else:\n",
        "    print(f\"{num} is not a Disarium Number\")\n"
      ]
    },
    {
      "cell_type": "markdown",
      "metadata": {
        "id": "NKGjbQESQSjQ"
      },
      "source": [
        "2.Write a Python program to print all disarium numbers between 1 to 100?"
      ]
    },
    {
      "cell_type": "code",
      "execution_count": 12,
      "metadata": {
        "colab": {
          "base_uri": "https://localhost:8080/"
        },
        "id": "i3O7c5JGQUuu",
        "outputId": "21f6bac3-4e6c-4ce3-82e4-a98126103e28"
      },
      "outputs": [
        {
          "output_type": "stream",
          "name": "stdout",
          "text": [
            "1\n",
            "2\n",
            "3\n",
            "4\n",
            "5\n",
            "6\n",
            "7\n",
            "8\n",
            "9\n",
            "89\n"
          ]
        }
      ],
      "source": [
        "def is_disarium_number(n):\n",
        "    # convert number to string to iterate over digits\n",
        "    str_n = str(n)\n",
        "    # get the length of the number\n",
        "    length = len(str_n)\n",
        "    # initialize sum variable\n",
        "    sum = 0\n",
        "    # iterate over digits and calculate sum\n",
        "    for i in range(length):\n",
        "        sum += int(str_n[i])**(i+1)\n",
        "    # check if sum is equal to the number\n",
        "    if sum == n:\n",
        "        return True\n",
        "    else:\n",
        "        return False\n",
        "\n",
        "# iterate over numbers between 1 and 100\n",
        "for num in range(1, 101):\n",
        "    # check if number is a Disarium number\n",
        "    if is_disarium_number(num):\n",
        "        print(num)\n"
      ]
    },
    {
      "cell_type": "markdown",
      "metadata": {
        "id": "DpRCXJK4RSm4"
      },
      "source": [
        "3. Write a Python program to check if the given number is Happy Number?"
      ]
    },
    {
      "cell_type": "code",
      "execution_count": 13,
      "metadata": {
        "colab": {
          "base_uri": "https://localhost:8080/"
        },
        "id": "8LASDgD8RY8t",
        "outputId": "7cb8d239-f3bc-4dc2-effb-6c08c553b58a"
      },
      "outputs": [
        {
          "output_type": "stream",
          "name": "stdout",
          "text": [
            "19 is a Happy Number\n"
          ]
        }
      ],
      "source": [
        "def is_happy_number(n):\n",
        "    # initialize sum variable\n",
        "    sum = 0\n",
        "    # iterate until sum becomes 1 or we get stuck in a loop\n",
        "    while sum != 1 and sum != 4:\n",
        "        # convert number to string to iterate over digits\n",
        "        str_n = str(n)\n",
        "        # calculate sum of squares of digits\n",
        "        sum = 0\n",
        "        for digit in str_n:\n",
        "            sum += int(digit)**2\n",
        "        # set n to be the new sum for the next iteration\n",
        "        n = sum\n",
        "    # if sum is 1, number is happy\n",
        "    if sum == 1:\n",
        "        return True\n",
        "    else:\n",
        "        return False\n",
        "\n",
        "# example usage\n",
        "num = 19\n",
        "if is_happy_number(num):\n",
        "    print(f\"{num} is a Happy Number\")\n",
        "else:\n",
        "    print(f\"{num} is not a Happy Number\")\n"
      ]
    },
    {
      "cell_type": "markdown",
      "metadata": {
        "id": "0Xaktn0Ad7os"
      },
      "source": [
        "4. Write a Python program to print all happy numbers between 1 and 100?"
      ]
    },
    {
      "cell_type": "code",
      "execution_count": 14,
      "metadata": {
        "colab": {
          "base_uri": "https://localhost:8080/"
        },
        "id": "kIyYXfHMd9pq",
        "outputId": "52774645-6bae-4e00-bc7a-61dc9da26718"
      },
      "outputs": [
        {
          "output_type": "stream",
          "name": "stdout",
          "text": [
            "1\n",
            "7\n",
            "10\n",
            "13\n",
            "19\n",
            "23\n",
            "28\n",
            "31\n",
            "32\n",
            "44\n",
            "49\n",
            "68\n",
            "70\n",
            "79\n",
            "82\n",
            "86\n",
            "91\n",
            "94\n",
            "97\n",
            "100\n"
          ]
        }
      ],
      "source": [
        "def is_happy_number(n):\n",
        "    # initialize sum variable\n",
        "    sum = 0\n",
        "    # iterate until sum becomes 1 or we get stuck in a loop\n",
        "    while sum != 1 and sum != 4:\n",
        "        # convert number to string to iterate over digits\n",
        "        str_n = str(n)\n",
        "        # calculate sum of squares of digits\n",
        "        sum = 0\n",
        "        for digit in str_n:\n",
        "            sum += int(digit)**2\n",
        "        # set n to be the new sum for the next iteration\n",
        "        n = sum\n",
        "    # if sum is 1, number is happy\n",
        "    if sum == 1:\n",
        "        return True\n",
        "    else:\n",
        "        return False\n",
        "\n",
        "# iterate over numbers between 1 and 100\n",
        "for num in range(1, 101):\n",
        "    # check if number is a Happy Number\n",
        "    if is_happy_number(num):\n",
        "        print(num)\n"
      ]
    },
    {
      "cell_type": "markdown",
      "metadata": {
        "id": "6IiB_kWDRkW7"
      },
      "source": [
        "5.Write a Python program to determine whether the given number is a Harshad Number?"
      ]
    },
    {
      "cell_type": "code",
      "execution_count": 17,
      "metadata": {
        "colab": {
          "base_uri": "https://localhost:8080/"
        },
        "id": "TMMUFCtHRgIP",
        "outputId": "84f8e189-c2c8-4044-e7b1-3c586d9ef7c8"
      },
      "outputs": [
        {
          "output_type": "stream",
          "name": "stdout",
          "text": [
            "156 is a harshad number\n"
          ]
        }
      ],
      "source": [
        "num = 156;    \n",
        "rem = sum = 0;    \n",
        "     \n",
        "#Make a copy of num and store it in variable n    \n",
        "n = num;    \n",
        "     \n",
        "#Calculates sum of digits    \n",
        "while(num > 0):    \n",
        "    rem = num%10;    \n",
        "    sum = sum + rem;    \n",
        "    num = num//10;    \n",
        "     \n",
        "#Checks whether the number is divisible by the sum of digits    \n",
        "if(n%sum == 0):    \n",
        "    print(str(n) + \" is a harshad number\");    \n",
        "else:    \n",
        "    print(str(n) + \" is not a harshad number\");  "
      ]
    },
    {
      "cell_type": "markdown",
      "source": [
        "6.Write a Python program to print all pronic numbers between 1 and 100?"
      ],
      "metadata": {
        "id": "BQGIds8IqT4e"
      }
    },
    {
      "cell_type": "code",
      "source": [
        "def isPronicNumber(num):    \n",
        "    flag = False;    \n",
        "        \n",
        "    for j in range(1, num+1):    \n",
        "        #Checks for pronic number by multiplying consecutive numbers    \n",
        "        if((j*(j+1)) == num):    \n",
        "            flag = True;    \n",
        "            break;    \n",
        "    return flag;    \n",
        "     \n",
        "#Displays pronic numbers between 1 and 100    \n",
        "print(\"Pronic numbers between 1 and 100: \");    \n",
        "for i in range(1, 101):    \n",
        "    if(isPronicNumber(i)):    \n",
        "        print(i),    \n",
        "        print(\" \"),    "
      ],
      "metadata": {
        "colab": {
          "base_uri": "https://localhost:8080/"
        },
        "id": "BWzSK9gdqP_v",
        "outputId": "9804e506-8c59-4ef2-af82-1f90930f09eb"
      },
      "execution_count": 18,
      "outputs": [
        {
          "output_type": "stream",
          "name": "stdout",
          "text": [
            "Pronic numbers between 1 and 100: \n",
            "2\n",
            " \n",
            "6\n",
            " \n",
            "12\n",
            " \n",
            "20\n",
            " \n",
            "30\n",
            " \n",
            "42\n",
            " \n",
            "56\n",
            " \n",
            "72\n",
            " \n",
            "90\n",
            " \n"
          ]
        }
      ]
    },
    {
      "cell_type": "code",
      "source": [],
      "metadata": {
        "id": "D0om9hC3qXdi"
      },
      "execution_count": null,
      "outputs": []
    }
  ],
  "metadata": {
    "colab": {
      "provenance": []
    },
    "kernelspec": {
      "display_name": "Python 3",
      "name": "python3"
    },
    "language_info": {
      "name": "python"
    }
  },
  "nbformat": 4,
  "nbformat_minor": 0
}