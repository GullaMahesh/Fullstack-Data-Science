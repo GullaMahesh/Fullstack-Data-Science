{
  "cells": [
    {
      "cell_type": "markdown",
      "metadata": {
        "id": "zjDRgVUjQD9t"
      },
      "source": [
        "1.Write a Python Program to Add Two Matrices?\n"
      ]
    },
    {
      "cell_type": "code",
      "execution_count": 6,
      "metadata": {
        "colab": {
          "base_uri": "https://localhost:8080/"
        },
        "id": "oAuDVI0dQI7m",
        "outputId": "0bd371b4-d7dd-47c3-d05c-eefbe4278f6d"
      },
      "outputs": [
        {
          "output_type": "stream",
          "name": "stdout",
          "text": [
            "[[10, 10, 10], [10, 10, 10], [10, 10, 10]]\n"
          ]
        }
      ],
      "source": [
        "def add_matrices(mat1, mat2):\n",
        "   \n",
        "    result = []\n",
        "    \n",
        "    for i in range(len(mat1)):\n",
        "        row = []\n",
        "       \n",
        "        for j in range(len(mat1[i])):\n",
        "            \n",
        "            row.append(mat1[i][j] + mat2[i][j])\n",
        "        \n",
        "        result.append(row)\n",
        "    return result\n",
        "\n",
        "my_matrix1 = [[1, 2, 3], [4, 5, 6], [7, 8, 9]]\n",
        "my_matrix2 = [[9, 8, 7], [6, 5, 4], [3, 2, 1]]\n",
        "result_matrix = add_matrices(my_matrix1, my_matrix2)\n",
        "print(result_matrix)\n"
      ]
    },
    {
      "cell_type": "markdown",
      "metadata": {
        "id": "NKGjbQESQSjQ"
      },
      "source": [
        "2. Write a Python Program to Multiply Two Matrices?"
      ]
    },
    {
      "cell_type": "code",
      "execution_count": 7,
      "metadata": {
        "colab": {
          "base_uri": "https://localhost:8080/"
        },
        "id": "i3O7c5JGQUuu",
        "outputId": "bb978654-4f54-4666-ae50-095b163edd64"
      },
      "outputs": [
        {
          "output_type": "stream",
          "name": "stdout",
          "text": [
            "[[19, 22], [43, 50]]\n"
          ]
        }
      ],
      "source": [
        "# function to multiply two matrices\n",
        "def multiply_matrices(mat1, mat2):\n",
        "    # create an empty matrix to hold the result\n",
        "    result = []\n",
        "    # iterate over the rows of the first matrix\n",
        "    for i in range(len(mat1)):\n",
        "        row = []\n",
        "        # iterate over the columns of the second matrix\n",
        "        for j in range(len(mat2[0])):\n",
        "            # compute the dot product of the i-th row of mat1 and the j-th column of mat2\n",
        "            dot_product = 0\n",
        "            for k in range(len(mat2)):\n",
        "                dot_product += mat1[i][k] * mat2[k][j]\n",
        "            # add the resulting element to the row\n",
        "            row.append(dot_product)\n",
        "        # add the resulting row to the result matrix\n",
        "        result.append(row)\n",
        "    return result\n",
        "\n",
        "# example usage\n",
        "my_matrix1 = [[1, 2], [3, 4]]\n",
        "my_matrix2 = [[5, 6], [7, 8]]\n",
        "result_matrix = multiply_matrices(my_matrix1, my_matrix2)\n",
        "print(result_matrix)\n"
      ]
    },
    {
      "cell_type": "markdown",
      "metadata": {
        "id": "DpRCXJK4RSm4"
      },
      "source": [
        "3. Write a Python Program to Transpose a Matrix?"
      ]
    },
    {
      "cell_type": "code",
      "execution_count": 9,
      "metadata": {
        "colab": {
          "base_uri": "https://localhost:8080/"
        },
        "id": "8LASDgD8RY8t",
        "outputId": "52fa865f-e095-42c6-e90a-06ea664da753"
      },
      "outputs": [
        {
          "output_type": "stream",
          "name": "stdout",
          "text": [
            "[[1, 4, 7], [2, 5, 8], [3, 6, 9]]\n"
          ]
        }
      ],
      "source": [
        "# function to transpose a matrix\n",
        "def transpose_matrix(matrix):\n",
        "    # get the number of rows and columns in the matrix\n",
        "    num_rows = len(matrix)\n",
        "    num_cols = len(matrix[0])\n",
        "    # create an empty matrix to hold the transposed matrix\n",
        "    transposed_matrix = []\n",
        "    # iterate over the rows of the matrix\n",
        "    for j in range(num_cols):\n",
        "        row = []\n",
        "        # iterate over the columns of the matrix\n",
        "        for i in range(num_rows):\n",
        "            # add the i-th element of the j-th row to the new row\n",
        "            row.append(matrix[i][j])\n",
        "        # add the new row to the transposed matrix\n",
        "        transposed_matrix.append(row)\n",
        "    return transposed_matrix\n",
        "\n",
        "# example usage\n",
        "my_matrix = [[1, 2, 3], [4, 5, 6], [7, 8, 9]]\n",
        "transposed_matrix = transpose_matrix(my_matrix)\n",
        "print(transposed_matrix)\n"
      ]
    },
    {
      "cell_type": "markdown",
      "metadata": {
        "id": "0Xaktn0Ad7os"
      },
      "source": [
        "4. Write a Python Program to Sort Words in Alphabetic Order?"
      ]
    },
    {
      "cell_type": "code",
      "execution_count": 10,
      "metadata": {
        "colab": {
          "base_uri": "https://localhost:8080/"
        },
        "id": "kIyYXfHMd9pq",
        "outputId": "969208e7-4766-4800-bfc9-62b4cbd23825"
      },
      "outputs": [
        {
          "output_type": "stream",
          "name": "stdout",
          "text": [
            "The brown dog fox jumps lazy over quick the\n"
          ]
        }
      ],
      "source": [
        "# function to sort words in a string in alphabetic order\n",
        "def sort_words_alphabetic(string):\n",
        "    # split the string into words\n",
        "    words = string.split()\n",
        "    # sort the words in alphabetic order\n",
        "    words.sort()\n",
        "    # join the words back into a string\n",
        "    sorted_string = \" \".join(words)\n",
        "    return sorted_string\n",
        "\n",
        "# example usage\n",
        "my_string = \"The quick brown fox jumps over the lazy dog\"\n",
        "sorted_string = sort_words_alphabetic(my_string)\n",
        "print(sorted_string)\n"
      ]
    },
    {
      "cell_type": "markdown",
      "metadata": {
        "id": "6IiB_kWDRkW7"
      },
      "source": [
        "5.Write a Python Program to Remove Punctuation From a String?"
      ]
    },
    {
      "cell_type": "code",
      "execution_count": 8,
      "metadata": {
        "colab": {
          "base_uri": "https://localhost:8080/"
        },
        "id": "TMMUFCtHRgIP",
        "outputId": "b9f9f4ef-b9c4-436c-d5db-924d75e15dfb"
      },
      "outputs": [
        {
          "output_type": "stream",
          "name": "stdout",
          "text": [
            "Hello World\n"
          ]
        }
      ],
      "source": [
        "import string\n",
        "\n",
        "def remove_punctuation(text):\n",
        "   \n",
        "    punctuations = string.punctuation\n",
        "    \n",
        "    result = \"\"\n",
        "   \n",
        "    for char in text:\n",
        "       \n",
        "        if char not in punctuations:\n",
        "           \n",
        "            result += char\n",
        "    return result\n",
        "\n",
        "\n",
        "my_string = \"Hello, World!\"\n",
        "result_string = remove_punctuation(my_string)\n",
        "print(result_string)\n"
      ]
    },
    {
      "cell_type": "code",
      "source": [],
      "metadata": {
        "id": "vPo6JQyboy9y"
      },
      "execution_count": null,
      "outputs": []
    }
  ],
  "metadata": {
    "colab": {
      "provenance": []
    },
    "kernelspec": {
      "display_name": "Python 3",
      "name": "python3"
    },
    "language_info": {
      "name": "python"
    }
  },
  "nbformat": 4,
  "nbformat_minor": 0
}