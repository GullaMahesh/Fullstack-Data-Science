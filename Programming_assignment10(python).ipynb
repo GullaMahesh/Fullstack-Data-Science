{
  "cells": [
    {
      "cell_type": "markdown",
      "metadata": {
        "id": "zjDRgVUjQD9t"
      },
      "source": [
        "1.Write a Python program to find sum of elements in list?\n"
      ]
    },
    {
      "cell_type": "code",
      "execution_count": 19,
      "metadata": {
        "colab": {
          "base_uri": "https://localhost:8080/"
        },
        "id": "oAuDVI0dQI7m",
        "outputId": "a92cda01-ba2c-44e2-8d88-f8ef9b96e2a4"
      },
      "outputs": [
        {
          "output_type": "stream",
          "name": "stdout",
          "text": [
            "sum is  15\n"
          ]
        }
      ],
      "source": [
        "lis = [1,2,3,4,5]\n",
        "\n",
        "sum = 0\n",
        "for i in range(len(lis)):\n",
        "  sum = sum + lis[i]\n",
        "\n",
        "print(\"sum is \",sum)"
      ]
    },
    {
      "cell_type": "markdown",
      "metadata": {
        "id": "NKGjbQESQSjQ"
      },
      "source": [
        "2.Write a Python program to Multiply all numbers in the list?"
      ]
    },
    {
      "cell_type": "code",
      "execution_count": 20,
      "metadata": {
        "colab": {
          "base_uri": "https://localhost:8080/"
        },
        "id": "i3O7c5JGQUuu",
        "outputId": "def3f357-de82-405d-a445-649f13790109"
      },
      "outputs": [
        {
          "output_type": "stream",
          "name": "stdout",
          "text": [
            "Product is  120\n"
          ]
        }
      ],
      "source": [
        "lis = [1,2,3,4,5]\n",
        "\n",
        "mul = 1\n",
        "for i in range(len(lis)):\n",
        "  mul = mul * lis[i]\n",
        "\n",
        "print(\"Product is \",mul)"
      ]
    },
    {
      "cell_type": "markdown",
      "metadata": {
        "id": "DpRCXJK4RSm4"
      },
      "source": [
        "3. Write a Python program to find smallest number in a list?"
      ]
    },
    {
      "cell_type": "code",
      "execution_count": 21,
      "metadata": {
        "colab": {
          "base_uri": "https://localhost:8080/"
        },
        "id": "8LASDgD8RY8t",
        "outputId": "15efb8e4-2528-45b7-eb00-d7f5cd5083e8"
      },
      "outputs": [
        {
          "output_type": "stream",
          "name": "stdout",
          "text": [
            "smallest is  1\n"
          ]
        }
      ],
      "source": [
        "lis = [9,7,2,1,5]\n",
        "\n",
        "small = lis[0]\n",
        "for i in range(len(lis)):\n",
        "  if(lis[i]<small):\n",
        "    small = lis[i]\n",
        "\n",
        "print(\"smallest is \",small)"
      ]
    },
    {
      "cell_type": "markdown",
      "metadata": {
        "id": "0Xaktn0Ad7os"
      },
      "source": [
        "4. Write a Python program to find largest number in a list?"
      ]
    },
    {
      "cell_type": "code",
      "execution_count": 22,
      "metadata": {
        "colab": {
          "base_uri": "https://localhost:8080/"
        },
        "id": "kIyYXfHMd9pq",
        "outputId": "c7f1ffe6-f870-4417-85dc-1cb2706d0e74"
      },
      "outputs": [
        {
          "output_type": "stream",
          "name": "stdout",
          "text": [
            "largest is  9\n"
          ]
        }
      ],
      "source": [
        "lis = [9,7,2,1,5]\n",
        "\n",
        "lar = lis[0]\n",
        "for i in range(len(lis)):\n",
        "  if(lis[i]>lar):\n",
        "    lar = lis[i]\n",
        "\n",
        "print(\"largest is \",lar)"
      ]
    },
    {
      "cell_type": "markdown",
      "metadata": {
        "id": "6IiB_kWDRkW7"
      },
      "source": [
        "5. Write a Python program to find second largest number in a list?"
      ]
    },
    {
      "cell_type": "code",
      "execution_count": 23,
      "metadata": {
        "colab": {
          "base_uri": "https://localhost:8080/"
        },
        "id": "TMMUFCtHRgIP",
        "outputId": "8f11f3a1-1f44-417c-a5c0-9e3cfa59e3b7"
      },
      "outputs": [
        {
          "output_type": "stream",
          "name": "stdout",
          "text": [
            "The second largest number in the list is: 20\n"
          ]
        }
      ],
      "source": [
        "def second_largest_num(lst):\n",
        "    # sort the list in descending order\n",
        "    sorted_lst = sorted(lst, reverse=True)\n",
        "    # return the second largest number\n",
        "    return sorted_lst[1]\n",
        "\n",
        "# example usage\n",
        "my_list = [10, 5, 20, 15, 30]\n",
        "second_largest = second_largest_num(my_list)\n",
        "print(\"The second largest number in the list is:\", second_largest)\n"
      ]
    },
    {
      "cell_type": "markdown",
      "source": [
        "6.Write a Python program to find N largest elements from a list?"
      ],
      "metadata": {
        "id": "BQGIds8IqT4e"
      }
    },
    {
      "cell_type": "code",
      "source": [
        "def n_largest_num(lst,n):\n",
        "    # sort the list in descending order\n",
        "    sorted_lst = sorted(lst, reverse=True)\n",
        "    # return the second largest number\n",
        "    return sorted_lst[n-1]\n",
        "\n",
        "# example usage\n",
        "my_list = [10, 5, 20, 15, 30]\n",
        "n_largest = n_largest_num(my_list,3)\n",
        "print(\"The n largest number in the list is:\", n_largest)"
      ],
      "metadata": {
        "colab": {
          "base_uri": "https://localhost:8080/"
        },
        "id": "BWzSK9gdqP_v",
        "outputId": "9dbc8190-6a65-4d4c-ee35-5476a9405bae"
      },
      "execution_count": 25,
      "outputs": [
        {
          "output_type": "stream",
          "name": "stdout",
          "text": [
            "The n largest number in the list is: 15\n"
          ]
        }
      ]
    },
    {
      "cell_type": "markdown",
      "source": [
        "7. Write a Python program to print even numbers in a list?"
      ],
      "metadata": {
        "id": "brNRrNq6slB1"
      }
    },
    {
      "cell_type": "code",
      "source": [
        "lis = [5,6,8,4,3]\n",
        "for i in range(len(lis)):\n",
        "  if(lis[i]%2==0):\n",
        "    print(lis[i])"
      ],
      "metadata": {
        "colab": {
          "base_uri": "https://localhost:8080/"
        },
        "id": "D0om9hC3qXdi",
        "outputId": "00a4f139-9f99-4d39-c68f-6b2e8c10d6a8"
      },
      "execution_count": 26,
      "outputs": [
        {
          "output_type": "stream",
          "name": "stdout",
          "text": [
            "6\n",
            "8\n",
            "4\n"
          ]
        }
      ]
    },
    {
      "cell_type": "markdown",
      "source": [
        "8. Write a Python program to print odd numbers in a List?"
      ],
      "metadata": {
        "id": "1ZLsduaPs9Ni"
      }
    },
    {
      "cell_type": "code",
      "source": [
        "lis = [5,6,8,4,3]\n",
        "for i in range(len(lis)):\n",
        "  if(lis[i]%2!=0):\n",
        "    print(lis[i])"
      ],
      "metadata": {
        "colab": {
          "base_uri": "https://localhost:8080/"
        },
        "id": "dCw6M0lts7jV",
        "outputId": "74cb2ebb-e70f-4c2b-f783-a956fefeebaf"
      },
      "execution_count": 27,
      "outputs": [
        {
          "output_type": "stream",
          "name": "stdout",
          "text": [
            "5\n",
            "3\n"
          ]
        }
      ]
    },
    {
      "cell_type": "markdown",
      "source": [
        "9.Write a Python program to Remove empty List from List?"
      ],
      "metadata": {
        "id": "we8wPXLXtJEL"
      }
    },
    {
      "cell_type": "code",
      "source": [
        "# Python3 code to Demonstrate Remove empty List\n",
        "# from List using list comprehension\n",
        "\n",
        "# Initializing list\n",
        "test_list = [5, 6, [], 3, [], [], 9]\n",
        "\n",
        "# printing original list\n",
        "print(\"The original list is : \" + str(test_list))\n",
        "\n",
        "# Remove empty List from List\n",
        "# using list comprehension\n",
        "res = [ele for ele in test_list if ele != []]\n",
        "\n",
        "# printing result\n",
        "print(\"List after empty list removal : \" + str(res))\n"
      ],
      "metadata": {
        "colab": {
          "base_uri": "https://localhost:8080/"
        },
        "id": "KN7-5IB8tDI4",
        "outputId": "449fe9c3-b2b4-4c03-d9ed-ccbcbab102f5"
      },
      "execution_count": 29,
      "outputs": [
        {
          "output_type": "stream",
          "name": "stdout",
          "text": [
            "The original list is : [5, 6, [], 3, [], [], 9]\n",
            "List after empty list removal : [5, 6, 3, 9]\n"
          ]
        }
      ]
    },
    {
      "cell_type": "markdown",
      "source": [
        "10. Write a Python program to Cloning or Copying a list?"
      ],
      "metadata": {
        "id": "LjxmnmkctaAL"
      }
    },
    {
      "cell_type": "code",
      "source": [
        "# Python program to copy or clone a list\n",
        "# Using the Slice Operator\n",
        "def Cloning(li1):\n",
        "\tli_copy = li1[:]\n",
        "\treturn li_copy\n",
        "\n",
        "\n",
        "# Driver Code\n",
        "li1 = [4, 8, 2, 10, 15, 18]\n",
        "li2 = Cloning(li1)\n",
        "print(\"Original List:\", li1)\n",
        "print(\"After Cloning:\", li2)\n"
      ],
      "metadata": {
        "colab": {
          "base_uri": "https://localhost:8080/"
        },
        "id": "_Y0N4y_ItMPO",
        "outputId": "e1f6f0bf-005c-4fdb-ffa2-2f1b08f9cb23"
      },
      "execution_count": 30,
      "outputs": [
        {
          "output_type": "stream",
          "name": "stdout",
          "text": [
            "Original List: [4, 8, 2, 10, 15, 18]\n",
            "After Cloning: [4, 8, 2, 10, 15, 18]\n"
          ]
        }
      ]
    },
    {
      "cell_type": "markdown",
      "source": [
        "11. Write a Python program to Count occurrences of an element in a list?"
      ],
      "metadata": {
        "id": "Qg6vz8Zstj-y"
      }
    },
    {
      "cell_type": "code",
      "source": [
        "def countX(lst, x):\n",
        "    count = 0\n",
        "    for ele in lst:\n",
        "        if (ele == x):\n",
        "            count = count + 1\n",
        "    return count\n",
        " \n",
        " \n",
        "# Driver Code\n",
        "lst = [8, 6, 8, 10, 8, 20, 10, 8, 8]\n",
        "x = 8\n",
        "print('{} has occurred {} times'.format(x,countX(lst, x)))"
      ],
      "metadata": {
        "colab": {
          "base_uri": "https://localhost:8080/"
        },
        "id": "pt494mIrteWO",
        "outputId": "3033d7d9-d7b5-4f65-c2ca-c59d17dd0183"
      },
      "execution_count": 31,
      "outputs": [
        {
          "output_type": "stream",
          "name": "stdout",
          "text": [
            "8 has occurred 5 times\n"
          ]
        }
      ]
    }
  ],
  "metadata": {
    "colab": {
      "provenance": []
    },
    "kernelspec": {
      "display_name": "Python 3",
      "name": "python3"
    },
    "language_info": {
      "name": "python"
    }
  },
  "nbformat": 4,
  "nbformat_minor": 0
}